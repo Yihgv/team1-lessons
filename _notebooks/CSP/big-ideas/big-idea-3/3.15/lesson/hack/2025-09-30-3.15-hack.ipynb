{
 "cells": [
  {
   "cell_type": "markdown",
   "id": "592669c1",
   "metadata": {},
   "source": [
    "Homework\n"
   ]
  },
  {
   "cell_type": "code",
   "execution_count": null,
   "id": "3b10eb39",
   "metadata": {
    "vscode": {
     "languageId": "plaintext"
    }
   },
   "outputs": [],
   "source": []
  }
 ],
 "metadata": {
  "language_info": {
   "name": "python"
  }
 },
 "nbformat": 4,
 "nbformat_minor": 5
}
