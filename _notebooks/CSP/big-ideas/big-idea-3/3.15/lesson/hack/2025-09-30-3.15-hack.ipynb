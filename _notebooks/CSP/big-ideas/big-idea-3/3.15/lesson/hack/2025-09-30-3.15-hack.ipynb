{
 "cells": [
  {
   "cell_type": "markdown",
   "id": "592669c1",
   "metadata": {},
   "source": [
    "Homework\n"
   ]
  },
  {
   "cell_type": "markdown",
   "id": "2f2249c9",
   "metadata": {},
   "source": [
    "1. Write a description of RADOM(a,b)\n"
   ]
  },
  {
   "cell_type": "code",
   "execution_count": null,
   "id": "51fb801d",
   "metadata": {},
   "outputs": [],
   "source": []
  },
  {
   "cell_type": "markdown",
   "id": "8465704a",
   "metadata": {},
   "source": [
    "2. If the up side of a coin is 1 and the down side of it is 0. Type the code segments of all valuable result of fliping a coin two times.\n"
   ]
  },
  {
   "cell_type": "code",
   "execution_count": null,
   "id": "3b10eb39",
   "metadata": {},
   "outputs": [],
   "source": [
    "(e.x: Sum=RADOM(1,6)+RADOM(1,6)+RADOM(1,6))\n",
    "Sum= "
   ]
  },
  {
   "cell_type": "markdown",
   "id": "dff182fb",
   "metadata": {},
   "source": [
    "3.\n"
   ]
  }
 ],
 "metadata": {
  "language_info": {
   "name": "python"
  }
 },
 "nbformat": 4,
 "nbformat_minor": 5
}
