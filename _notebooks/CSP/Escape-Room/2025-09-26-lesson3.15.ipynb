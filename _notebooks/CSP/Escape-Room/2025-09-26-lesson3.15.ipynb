{
 "cells": [
  {
   "cell_type": "markdown",
   "id": "c8857649",
   "metadata": {},
   "source": [
    "Home Page\n"
   ]
  },
  {
   "cell_type": "code",
   "execution_count": null,
   "id": "8f830951",
   "metadata": {
    "vscode": {
     "languageId": "plaintext"
    }
   },
   "outputs": [],
   "source": []
  },
  {
   "cell_type": "code",
   "execution_count": null,
   "id": "f20836d7",
   "metadata": {
    "vscode": {
     "languageId": "plaintext"
    }
   },
   "outputs": [],
   "source": []
  }
 ],
 "metadata": {
  "language_info": {
   "name": "python"
  }
 },
 "nbformat": 4,
 "nbformat_minor": 5
}
